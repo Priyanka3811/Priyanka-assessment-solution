{
 "cells": [
  {
   "cell_type": "code",
   "execution_count": null,
   "id": "ba52f6f9",
   "metadata": {},
   "outputs": [],
   "source": [
    "from langchain_community.tools import YouTubeSearchTool\n",
    "from langchain_community.document_loaders import YoutubeLoader"
   ]
  },
  {
   "cell_type": "code",
   "execution_count": null,
   "id": "2604e61f",
   "metadata": {},
   "outputs": [],
   "source": [
    "pip install youtube-search"
   ]
  },
  {
   "cell_type": "code",
   "execution_count": null,
   "id": "3a80b1d2",
   "metadata": {},
   "outputs": [],
   "source": [
    "pip install youtube-transcript-api"
   ]
  },
  {
   "cell_type": "code",
   "execution_count": null,
   "id": "ba125736",
   "metadata": {},
   "outputs": [],
   "source": [
    "youtube_tool = YouTubeSearchTool()"
   ]
  },
  {
   "cell_type": "code",
   "execution_count": null,
   "id": "d8bda4d0",
   "metadata": {},
   "outputs": [],
   "source": [
    "langchain_urls = youtube_tool.run(\"LangChain\")"
   ]
  },
  {
   "cell_type": "code",
   "execution_count": null,
   "id": "0e092477",
   "metadata": {},
   "outputs": [],
   "source": [
    "import re\n",
    "pattern = r\"https://www\\.youtube\\.com/watch\\?v=[\\w-]+&pp=[\\w-]+\"\n",
    "\n",
    "urls_found = re.findall(pattern, langchain_urls)"
   ]
  },
  {
   "cell_type": "code",
   "execution_count": null,
   "id": "9d28d8a1",
   "metadata": {},
   "outputs": [],
   "source": [
    "youtube_loader = YoutubeLoader.from_youtube_url(urls_found[0], add_video_info=False)"
   ]
  },
  {
   "cell_type": "code",
   "execution_count": null,
   "id": "6ea9de7c",
   "metadata": {},
   "outputs": [],
   "source": [
    "print(\"Here is the transcript for Langchain video from youtube\\n\\n\", youtube_loader.load()[0].page_content)"
   ]
  },
  {
   "cell_type": "code",
   "execution_count": null,
   "id": "14b5974e",
   "metadata": {},
   "outputs": [],
   "source": []
  }
 ],
 "metadata": {
  "kernelspec": {
   "display_name": "Python 3 (ipykernel)",
   "language": "python",
   "name": "python3"
  },
  "language_info": {
   "codemirror_mode": {
    "name": "ipython",
    "version": 3
   },
   "file_extension": ".py",
   "mimetype": "text/x-python",
   "name": "python",
   "nbconvert_exporter": "python",
   "pygments_lexer": "ipython3",
   "version": "3.11.4"
  }
 },
 "nbformat": 4,
 "nbformat_minor": 5
}
