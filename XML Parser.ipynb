{
 "cells": [
  {
   "cell_type": "code",
   "execution_count": null,
   "id": "9ef89bab",
   "metadata": {},
   "outputs": [],
   "source": [
    "pip install langchain-openai"
   ]
  },
  {
   "cell_type": "code",
   "execution_count": null,
   "id": "c0b006f9",
   "metadata": {},
   "outputs": [],
   "source": [
    "from langchain_openai import AzureChatOpenAI\n",
    "from langchain_core.output_parsers import CommaSeparatedListOutputParser\n",
    "from langchain_core.prompts import PromptTemplate\n",
    "from langchain.output_parsers import XMLOutputParser"
   ]
  },
  {
   "cell_type": "code",
   "execution_count": null,
   "id": "303bb5ab",
   "metadata": {},
   "outputs": [],
   "source": [
    "azure_config = {\n",
    "    #enter credentials}\n",
    "\n",
    "llm = AzureChatOpenAI(temperature=0,\n",
    "                      api_key=azure_config[\"api-key\"],\n",
    "                      openai_api_version=azure_config[\"api_version\"],\n",
    "                      azure_endpoint=azure_config[\"base_url\"],\n",
    "                      model=azure_config[\"model_deployment\"],\n",
    "                      validate_base_url=False)\n",
    "\n",
    "model = llm"
   ]
  },
  {
   "cell_type": "code",
   "execution_count": null,
   "id": "8d013442",
   "metadata": {},
   "outputs": [],
   "source": [
    "author_query = \"Give all the marvel movies by Stan Lee.\"\n",
    "output = model.invoke(\n",
    "    f\"\"\"{author_query}\"\"\")\n",
    "print(output.content)"
   ]
  },
  {
   "cell_type": "code",
   "execution_count": null,
   "id": "f0ddad54",
   "metadata": {},
   "outputs": [],
   "source": [
    "xml_parser = XMLOutputParser()\n",
    "\n",
    "prompt = PromptTemplate(\n",
    "    template=\"\"\"{query}\\n{format_instructions}\"\"\",\n",
    "    input_variables=[\"query\"],\n",
    "    partial_variables={\"format_instructions\": xml_parser.get_format_instructions()},\n",
    ")\n",
    "\n",
    "chain = prompt | model | xml_parser\n",
    "\n",
    "output = chain.invoke({\"query\": author_query})\n",
    "print(output)"
   ]
  }
 ],
 "metadata": {
  "kernelspec": {
   "display_name": "Python 3 (ipykernel)",
   "language": "python",
   "name": "python3"
  },
  "language_info": {
   "codemirror_mode": {
    "name": "ipython",
    "version": 3
   },
   "file_extension": ".py",
   "mimetype": "text/x-python",
   "name": "python",
   "nbconvert_exporter": "python",
   "pygments_lexer": "ipython3",
   "version": "3.11.4"
  }
 },
 "nbformat": 4,
 "nbformat_minor": 5
}
