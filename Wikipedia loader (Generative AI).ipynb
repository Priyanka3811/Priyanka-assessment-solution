{
 "cells": [
  {
   "cell_type": "code",
   "execution_count": null,
   "id": "c593cc2c",
   "metadata": {},
   "outputs": [],
   "source": [
    "!pip install langchain\n",
    "!pip install langchain-community\n",
    "!pip install langchain-core"
   ]
  },
  {
   "cell_type": "code",
   "execution_count": null,
   "id": "dbbc3f29",
   "metadata": {},
   "outputs": [],
   "source": [
    "pip install wikipedia"
   ]
  },
  {
   "cell_type": "code",
   "execution_count": null,
   "id": "1dc7cd6a",
   "metadata": {},
   "outputs": [],
   "source": [
    "from langchain_community.document_loaders import WikipediaLoader"
   ]
  },
  {
   "cell_type": "code",
   "execution_count": null,
   "id": "3b5c89e2",
   "metadata": {},
   "outputs": [],
   "source": [
    "loader = WikipediaLoader(query = \"Generative artificial intelligence\", load_max_docs = 1)"
   ]
  },
  {
   "cell_type": "code",
   "execution_count": null,
   "id": "b6eccacb",
   "metadata": {},
   "outputs": [],
   "source": [
    "content = loader.load()"
   ]
  },
  {
   "cell_type": "code",
   "execution_count": null,
   "id": "70af6fad",
   "metadata": {},
   "outputs": [],
   "source": [
    "print(\"The content on Generative AI from wikipedia is as follows :\\n\\n \", content[0].page_content)"
   ]
  }
 ],
 "metadata": {
  "kernelspec": {
   "display_name": "Python 3 (ipykernel)",
   "language": "python",
   "name": "python3"
  },
  "language_info": {
   "codemirror_mode": {
    "name": "ipython",
    "version": 3
   },
   "file_extension": ".py",
   "mimetype": "text/x-python",
   "name": "python",
   "nbconvert_exporter": "python",
   "pygments_lexer": "ipython3",
   "version": "3.11.4"
  }
 },
 "nbformat": 4,
 "nbformat_minor": 5
}
